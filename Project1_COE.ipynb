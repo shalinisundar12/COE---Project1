{
  "nbformat": 4,
  "nbformat_minor": 0,
  "metadata": {
    "colab": {
      "provenance": []
    },
    "kernelspec": {
      "name": "python3",
      "display_name": "Python 3"
    },
    "language_info": {
      "name": "python"
    }
  },
  "cells": [
    {
      "cell_type": "markdown",
      "source": [
        "USED CHATGPT TO DEBUG AND GET IDEAS TO WRITE THE CODE FOR BOTH PART ONE AND TWO\n",
        "\n",
        "\n",
        "PART ONE"
      ],
      "metadata": {
        "id": "0GItMufM0WOW"
      }
    },
    {
      "cell_type": "code",
      "execution_count": 2,
      "metadata": {
        "id": "NikcyAk0TAQ1",
        "colab": {
          "base_uri": "https://localhost:8080/"
        },
        "outputId": "c37401bc-09f9-4c2b-dd30-6ef06ee69814"
      },
      "outputs": [
        {
          "output_type": "stream",
          "name": "stdout",
          "text": [
            "Shape of dataset: (386, 10)\n",
            "Total size (data points): 3860\n"
          ]
        }
      ],
      "source": [
        "# Load dataset\n",
        "import pandas as pd\n",
        "\n",
        "dataFile = \"/content/drive/MyDrive/project1data.csv\"\n",
        "dataSet = pd.read_csv(dataFile)\n",
        "\n",
        "# Get shape and size of the dataset\n",
        "dataSetShape = dataSet.shape\n",
        "dataSetSize = dataSet.size\n",
        "\n",
        "print(\"Shape of dataset:\", dataSetShape)\n",
        "print(\"Total size (data points):\", dataSetSize)"
      ]
    },
    {
      "cell_type": "code",
      "source": [
        "\n",
        "print(dataSet.dtypes)\n",
        "\n",
        "\n",
        "duplicateRows = dataSet.duplicated().sum()\n",
        "print(\"Duplicate Rows:\", duplicateRows)\n",
        "\n",
        "\n",
        "dataSetCleaned = dataSet.drop_duplicates()\n",
        "\n",
        "#Observations:\n",
        "#Most columns are object (string) type, except deg-malig (integer).\n",
        "#age, tumor-size, and inv-nodes should be converted to numeric values.\n",
        "#11 duplicate rows were found and removed."
      ],
      "metadata": {
        "colab": {
          "base_uri": "https://localhost:8080/"
        },
        "id": "uXPksljZYMcf",
        "outputId": "e22107ae-eb33-4465-d6df-a1f9b3471255"
      },
      "execution_count": 3,
      "outputs": [
        {
          "output_type": "stream",
          "name": "stdout",
          "text": [
            "class          object\n",
            "age            object\n",
            "menopause      object\n",
            "tumor-size     object\n",
            "inv-nodes      object\n",
            "node-caps      object\n",
            "deg-malig       int64\n",
            "breast         object\n",
            "breast-quad    object\n",
            "irradiat       object\n",
            "dtype: object\n",
            "Duplicate Rows: 11\n"
          ]
        }
      ]
    },
    {
      "cell_type": "code",
      "source": [
        "import numpy as np\n",
        "import re\n",
        "\n",
        "\n",
        "dataSetCleaned = dataSet.drop_duplicates().copy()\n",
        "\n",
        "dataSetCleaned.replace({\"?\": np.nan, \"*\": np.nan}, inplace=True)\n",
        "\n",
        "\n",
        "def getMidpoint(value):\n",
        "    if isinstance(value, str) and '-' in value:\n",
        "        nums = re.findall(r'\\d+', value)\n",
        "        if len(nums) == 2:\n",
        "            return (int(nums[0]) + int(nums[1])) / 2\n",
        "    return np.nan\n",
        "\n",
        "\n",
        "numCols = [\"age\", \"tumor-size\", \"inv-nodes\"]\n",
        "for col in numCols:\n",
        "    dataSetCleaned.loc[:, col] = dataSetCleaned[col].apply(getMidpoint).astype(float)\n",
        "\n",
        "\n",
        "for col in numCols:\n",
        "    medianVal = dataSetCleaned[col].median()\n",
        "    dataSetCleaned.loc[:, col] = dataSetCleaned[col].fillna(medianVal).astype(float)\n",
        "\n",
        "\n",
        "print(\"Missing Values After Treatment:\\n\", dataSetCleaned.isnull().sum())"
      ],
      "metadata": {
        "colab": {
          "base_uri": "https://localhost:8080/"
        },
        "id": "yuTi7w8hYX_T",
        "outputId": "91dd846e-e523-4879-d534-492168c57bb4"
      },
      "execution_count": 4,
      "outputs": [
        {
          "output_type": "stream",
          "name": "stdout",
          "text": [
            "Missing Values After Treatment:\n",
            " class           0\n",
            "age             0\n",
            "menopause       0\n",
            "tumor-size      0\n",
            "inv-nodes       0\n",
            "node-caps      12\n",
            "deg-malig       0\n",
            "breast          0\n",
            "breast-quad     6\n",
            "irradiat        0\n",
            "dtype: int64\n"
          ]
        },
        {
          "output_type": "stream",
          "name": "stderr",
          "text": [
            "<ipython-input-4-c473da4cc8ba>:25: FutureWarning: Downcasting object dtype arrays on .fillna, .ffill, .bfill is deprecated and will change in a future version. Call result.infer_objects(copy=False) instead. To opt-in to the future behavior, set `pd.set_option('future.no_silent_downcasting', True)`\n",
            "  dataSetCleaned.loc[:, col] = dataSetCleaned[col].fillna(medianVal).astype(float)\n",
            "<ipython-input-4-c473da4cc8ba>:25: FutureWarning: Downcasting object dtype arrays on .fillna, .ffill, .bfill is deprecated and will change in a future version. Call result.infer_objects(copy=False) instead. To opt-in to the future behavior, set `pd.set_option('future.no_silent_downcasting', True)`\n",
            "  dataSetCleaned.loc[:, col] = dataSetCleaned[col].fillna(medianVal).astype(float)\n",
            "<ipython-input-4-c473da4cc8ba>:25: FutureWarning: Downcasting object dtype arrays on .fillna, .ffill, .bfill is deprecated and will change in a future version. Call result.infer_objects(copy=False) instead. To opt-in to the future behavior, set `pd.set_option('future.no_silent_downcasting', True)`\n",
            "  dataSetCleaned.loc[:, col] = dataSetCleaned[col].fillna(medianVal).astype(float)\n"
          ]
        }
      ]
    },
    {
      "cell_type": "code",
      "source": [
        "import matplotlib.pyplot as plt\n",
        "import seaborn as sns\n",
        "\n",
        "# Histogram for Age\n",
        "plt.figure(figsize=(6,4))\n",
        "sns.histplot(dataSetCleaned[\"age\"], bins=10, kde=True)\n",
        "plt.title(\"Distribution of Age (Midpoints)\")\n",
        "plt.show()\n",
        "\n",
        "print(\"\\n\\n\")\n",
        "# Countplot for Class (Target Variable)\n",
        "plt.figure(figsize = (6,4))\n",
        "sns.countplot(x = dataSetCleaned[\"class\"])\n",
        "plt.title(\"Class Distribution\")\n",
        "plt.show()\n",
        "\n",
        "print(\"\\n\\n\")\n",
        "\n",
        "# Boxplot for Tumor Size\n",
        "plt.figure(figsize = (6,4))\n",
        "sns.boxplot(x=dataSetCleaned[\"tumor-size\"])\n",
        "plt.title(\"Tumor Size Distribution\")\n",
        "plt.show()\n",
        "\n",
        "\n",
        "#Observations\n",
        "#Age distribution: Majority of patients are between 40-60 years. The distribution is also slight right-skewed which means that most patients are older\n",
        "#Class distribution: The dataset has an imbalance between recurrence and non-recurrence cases.\n",
        "#Tumor size boxplot: Some outliers in tumor size, but mostly centered around small-to-medium sizes. The median tumor size is relatively small\n"
      ],
      "metadata": {
        "colab": {
          "base_uri": "https://localhost:8080/",
          "height": 1000
        },
        "id": "3E9MHfQuZf6I",
        "outputId": "398ef73e-eb7d-4c30-f87e-cf202eefd029"
      },
      "execution_count": 5,
      "outputs": [
        {
          "output_type": "display_data",
          "data": {
            "text/plain": [
              "<Figure size 600x400 with 1 Axes>"
            ],
            "image/png": "[encoded data removed]"
          },
          "metadata": {}
        },
        {
          "output_type": "stream",
          "name": "stdout",
          "text": [
            "\n",
            "\n",
            "\n"
          ]
        },
        {
          "output_type": "display_data",
          "data": {
            "text/plain": [
              "<Figure size 600x400 with 1 Axes>"
            ],
            "image/png": "[encoded data removed]"
          },
          "metadata": {}
        },
        {
          "output_type": "stream",
          "name": "stdout",
          "text": [
            "\n",
            "\n",
            "\n"
          ]
        },
        {
          "output_type": "display_data",
          "data": {
            "text/plain": [
              "<Figure size 600x400 with 1 Axes>"
            ],
            "image/png": "[encoded data removed]"
          },
          "metadata": {}
        }
      ]
    },
    {
      "cell_type": "code",
      "source": [
        "# Perform One-Hot Encoding\n",
        "dataSetEncoded = pd.get_dummies(dataSetCleaned, columns=[\"menopause\", \"node-caps\", \"breast\", \"breast-quad\", \"irradiat\"], drop_first=True)\n",
        "print(dataSetEncoded.head())\n",
        "\n"
      ],
      "metadata": {
        "colab": {
          "base_uri": "https://localhost:8080/"
        },
        "id": "VDNS5yHQZqQk",
        "outputId": "0860e0b7-ab79-4b0b-b748-1a7799c0f1f9"
      },
      "execution_count": 6,
      "outputs": [
        {
          "output_type": "stream",
          "name": "stdout",
          "text": [
            "                  class   age tumor-size inv-nodes  deg-malig  menopause_lt40  \\\n",
            "0     recurrence-events  34.5       32.0       1.0          3           False   \n",
            "1  no-recurrence-events  44.5       22.0       1.0          2           False   \n",
            "2     recurrence-events  44.5       22.0       1.0          2           False   \n",
            "3  no-recurrence-events  64.5       17.0       1.0          2           False   \n",
            "4  no-recurrence-events  44.5        2.0       1.0          2           False   \n",
            "\n",
            "   menopause_premeno  node-caps_yes  breast_right  breast-quad_left_low  \\\n",
            "0               True          False         False                  True   \n",
            "1               True          False          True                 False   \n",
            "2               True          False         False                  True   \n",
            "3              False          False          True                 False   \n",
            "4               True          False          True                 False   \n",
            "\n",
            "   breast-quad_left_up  breast-quad_right_low  breast-quad_right_up  \\\n",
            "0                False                  False                 False   \n",
            "1                False                  False                  True   \n",
            "2                False                  False                 False   \n",
            "3                 True                  False                 False   \n",
            "4                False                   True                 False   \n",
            "\n",
            "   irradiat_yes  \n",
            "0         False  \n",
            "1         False  \n",
            "2         False  \n",
            "3         False  \n",
            "4         False  \n"
          ]
        }
      ]
    },
    {
      "cell_type": "markdown",
      "source": [
        "PART TWO"
      ],
      "metadata": {
        "id": "8zC-Gqi-ZumB"
      }
    },
    {
      "cell_type": "code",
      "source": [
        "from sklearn.model_selection import train_test_split\n",
        "\n",
        "xFeatures = dataSetCleaned.drop(columns=[\"class\"])\n",
        "yTarget = dataSetCleaned[\"class\"].map({\"no-recurrence-events\": 0, \"recurrence-events\": 1})\n",
        "\n",
        "xTrain, xTest, yTrain, yTest = train_test_split(\n",
        "    xFeatures, yTarget, test_size=0.2, random_state=42, stratify=yTarget\n",
        ")\n",
        "\n",
        "# Show class distribution\n",
        "print(\"Class Distribution in Training Set:\\n\", yTrain.value_counts(normalize=True))\n",
        "print(\"\\nClass Distribution in Test Set:\\n\", yTest.value_counts(normalize=True))\n",
        "\n",
        "# Observations:\n",
        "# Stratified split ensures class balance is maintained.\n",
        "# Reproducible split with random_state=42.\n"
      ],
      "metadata": {
        "colab": {
          "base_uri": "https://localhost:8080/"
        },
        "id": "xOg8uf62Zt4O",
        "outputId": "c486b0c7-0fea-451c-cfcc-bf500f758025"
      },
      "execution_count": 7,
      "outputs": [
        {
          "output_type": "stream",
          "name": "stdout",
          "text": [
            "Class Distribution in Training Set:\n",
            " class\n",
            "0    0.676667\n",
            "1    0.323333\n",
            "Name: proportion, dtype: float64\n",
            "\n",
            "Class Distribution in Test Set:\n",
            " class\n",
            "0    0.68\n",
            "1    0.32\n",
            "Name: proportion, dtype: float64\n"
          ]
        }
      ]
    },
    {
      "cell_type": "code",
      "source": [
        "import pandas as pd\n",
        "import numpy as np\n",
        "from sklearn.model_selection import train_test_split, GridSearchCV\n",
        "from sklearn.preprocessing import StandardScaler, OneHotEncoder\n",
        "from sklearn.neighbors import KNeighborsClassifier\n",
        "from sklearn.svm import SVC\n",
        "from sklearn.metrics import classification_report\n",
        "from sklearn.compose import ColumnTransformer\n",
        "\n",
        "dataPath = \"/content/drive/MyDrive/project1data.csv\"\n",
        "df = pd.read_csv(dataPath)\n",
        "\n",
        "display(df.head())\n",
        "\n",
        "print(\"Dataset columns:\", df.columns.tolist())\n",
        "\n",
        "df.columns = df.columns.str.strip().str.lower()\n",
        "\n",
        "df = df.dropna()\n",
        "\n",
        "categoricalColumns = df.select_dtypes(include=['object', 'category']).columns.tolist()\n",
        "if not categoricalColumns:\n",
        "    raise KeyError(\"No categorical column found for classification.\")\n",
        "\n",
        "targetColumn = categoricalColumns[-1]\n",
        "print(f\"Selected target column: {targetColumn}\")\n",
        "\n",
        "xFeatures = df.drop(columns=[targetColumn])\n",
        "yTarget = df[targetColumn]\n",
        "\n",
        "numFeatures = xFeatures.select_dtypes(include=['int64', 'float64']).columns.tolist()\n",
        "catFeatures = xFeatures.select_dtypes(include=['object', 'category']).columns.tolist()\n",
        "\n",
        "preprocessor = ColumnTransformer([\n",
        "    ('num', StandardScaler(), numFeatures),\n",
        "    ('cat', OneHotEncoder(handle_unknown='ignore'), catFeatures)\n",
        "])\n",
        "\n",
        "xTrain, xTest, yTrain, yTest = train_test_split(xFeatures, yTarget, test_size=0.2, random_state=42, stratify=yTarget)\n",
        "\n",
        "xTrainScaled = preprocessor.fit_transform(xTrain)\n",
        "xTestScaled = preprocessor.transform(xTest)\n",
        "\n",
        "knnModel = KNeighborsClassifier(n_neighbors=5)\n",
        "svmLinearModel = SVC(kernel=\"linear\", random_state=42)\n",
        "\n",
        "knnModel.fit(xTrainScaled, yTrain)\n",
        "svmLinearModel.fit(xTrainScaled, yTrain)\n",
        "yPredKnn = knnModel.predict(xTestScaled)\n",
        "yPredSvm = svmLinearModel.predict(xTestScaled)\n",
        "\n",
        "paramGrid = {\"n_neighbors\": range(1, 20, 2)}\n",
        "gridSearchKnn = GridSearchCV(KNeighborsClassifier(), paramGrid, cv=5, scoring=\"accuracy\")\n",
        "gridSearchKnn.fit(xTrainScaled, yTrain)\n",
        "\n",
        "bestKnnModel = gridSearchKnn.best_estimator_\n",
        "yPredKnnGrid = bestKnnModel.predict(xTestScaled)\n",
        "\n",
        "knnReport = classification_report(yTest, yPredKnn, output_dict=True)\n",
        "knnGridReport = classification_report(yTest, yPredKnnGrid, output_dict=True)\n",
        "svmReport = classification_report(yTest, yPredSvm, output_dict=True)\n",
        "\n",
        "knnDf = pd.DataFrame(knnReport).transpose()\n",
        "knnGridDf = pd.DataFrame(knnGridReport).transpose()\n",
        "svmDf = pd.DataFrame(svmReport).transpose()\n",
        "\n",
        "print(\"\\nKNN Classification Report:\\n\", knnDf)\n",
        "print(\"\\nKNN (Grid Search CV) Classification Report:\\n\", knnGridDf)\n",
        "print(\"\\nSVM (Linear) Classification Report:\\n\", svmDf)\n"
      ],
      "metadata": {
        "colab": {
          "base_uri": "https://localhost:8080/",
          "height": 657
        },
        "id": "R3SZsHwzauM1",
        "outputId": "8d3497ca-b602-495f-8107-348ba3c3e09d"
      },
      "execution_count": 9,
      "outputs": [
        {
          "output_type": "display_data",
          "data": {
            "text/plain": [
              "                  class    age menopause tumor-size inv-nodes node-caps  \\\n",
              "0     recurrence-events  30-39   premeno      30-34       0-2        no   \n",
              "1  no-recurrence-events  40-49   premeno      20-24       0-2        no   \n",
              "2     recurrence-events  40-49   premeno      20-24       0-2        no   \n",
              "3  no-recurrence-events  60-69      ge40      15-19       0-2        no   \n",
              "4  no-recurrence-events  40-49   premeno        0-4       0-2        no   \n",
              "\n",
              "   deg-malig breast breast-quad irradiat  \n",
              "0          3   left    left_low       no  \n",
              "1          2  right    right_up       no  \n",
              "2          2   left    left_low       no  \n",
              "3          2  right     left_up       no  \n",
              "4          2  right   right_low       no  "
            ],
            "text/html": [
              "\n",
              "  <div id=\"df-ba22766f-5f4c-409c-8158-a1e4797add82\" class=\"colab-df-container\">\n",
              "    <div>\n",
              "<style scoped>\n",
              "    .dataframe tbody tr th:only-of-type {\n",
              "        vertical-align: middle;\n",
              "    }\n",
              "\n",
              "    .dataframe tbody tr th {\n",
              "        vertical-align: top;\n",
              "    }\n",
              "\n",
              "    .dataframe thead th {\n",
              "        text-align: right;\n",
              "    }\n",
              "</style>\n",
              "<table border=\"1\" class=\"dataframe\">\n",
              "  <thead>\n",
              "    <tr style=\"text-align: right;\">\n",
              "      <th></th>\n",
              "      <th>class</th>\n",
              "      <th>age</th>\n",
              "      <th>menopause</th>\n",
              "      <th>tumor-size</th>\n",
              "      <th>inv-nodes</th>\n",
              "      <th>node-caps</th>\n",
              "      <th>deg-malig</th>\n",
              "      <th>breast</th>\n",
              "      <th>breast-quad</th>\n",
              "      <th>irradiat</th>\n",
              "    </tr>\n",
              "  </thead>\n",
              "  <tbody>\n",
              "    <tr>\n",
              "      <th>0</th>\n",
              "      <td>recurrence-events</td>\n",
              "      <td>30-39</td>\n",
              "      <td>premeno</td>\n",
              "      <td>30-34</td>\n",
              "      <td>0-2</td>\n",
              "      <td>no</td>\n",
              "      <td>3</td>\n",
              "      <td>left</td>\n",
              "      <td>left_low</td>\n",
              "      <td>no</td>\n",
              "    </tr>\n",
              "    <tr>\n",
              "      <th>1</th>\n",
              "      <td>no-recurrence-events</td>\n",
              "      <td>40-49</td>\n",
              "      <td>premeno</td>\n",
              "      <td>20-24</td>\n",
              "      <td>0-2</td>\n",
              "      <td>no</td>\n",
              "      <td>2</td>\n",
              "      <td>right</td>\n",
              "      <td>right_up</td>\n",
              "      <td>no</td>\n",
              "    </tr>\n",
              "    <tr>\n",
              "      <th>2</th>\n",
              "      <td>recurrence-events</td>\n",
              "      <td>40-49</td>\n",
              "      <td>premeno</td>\n",
              "      <td>20-24</td>\n",
              "      <td>0-2</td>\n",
              "      <td>no</td>\n",
              "      <td>2</td>\n",
              "      <td>left</td>\n",
              "      <td>left_low</td>\n",
              "      <td>no</td>\n",
              "    </tr>\n",
              "    <tr>\n",
              "      <th>3</th>\n",
              "      <td>no-recurrence-events</td>\n",
              "      <td>60-69</td>\n",
              "      <td>ge40</td>\n",
              "      <td>15-19</td>\n",
              "      <td>0-2</td>\n",
              "      <td>no</td>\n",
              "      <td>2</td>\n",
              "      <td>right</td>\n",
              "      <td>left_up</td>\n",
              "      <td>no</td>\n",
              "    </tr>\n",
              "    <tr>\n",
              "      <th>4</th>\n",
              "      <td>no-recurrence-events</td>\n",
              "      <td>40-49</td>\n",
              "      <td>premeno</td>\n",
              "      <td>0-4</td>\n",
              "      <td>0-2</td>\n",
              "      <td>no</td>\n",
              "      <td>2</td>\n",
              "      <td>right</td>\n",
              "      <td>right_low</td>\n",
              "      <td>no</td>\n",
              "    </tr>\n",
              "  </tbody>\n",
              "</table>\n",
              "</div>\n",
              "    <div class=\"colab-df-buttons\">\n",
              "\n",
              "  <div class=\"colab-df-container\">\n",
              "    <button class=\"colab-df-convert\" onclick=\"convertToInteractive('df-ba22766f-5f4c-409c-8158-a1e4797add82')\"\n",
              "            title=\"Convert this dataframe to an interactive table.\"\n",
              "            style=\"display:none;\">\n",
              "\n",
              "  <svg xmlns=\"http://www.w3.org/2000/svg\" height=\"24px\" viewBox=\"0 -960 960 960\">\n",
              "    <path d=\"M120-120v-720h720v720H120Zm60-500h600v-160H180v160Zm220 220h160v-160H400v160Zm0 220h160v-160H400v160ZM180-400h160v-160H180v160Zm440 0h160v-160H620v160ZM180-180h160v-160H180v160Zm440 0h160v-160H620v160Z\"/>\n",
              "  </svg>\n",
              "    </button>\n",
              "\n",
              "  <style>\n",
              "    .colab-df-container {\n",
              "      display:flex;\n",
              "      gap: 12px;\n",
              "    }\n",
              "\n",
              "    .colab-df-convert {\n",
              "      background-color: #E8F0FE;\n",
              "      border: none;\n",
              "      border-radius: 50%;\n",
              "      cursor: pointer;\n",
              "      display: none;\n",
              "      fill: #1967D2;\n",
              "      height: 32px;\n",
              "      padding: 0 0 0 0;\n",
              "      width: 32px;\n",
              "    }\n",
              "\n",
              "    .colab-df-convert:hover {\n",
              "      background-color: #E2EBFA;\n",
              "      box-shadow: 0px 1px 2px rgba(60, 64, 67, 0.3), 0px 1px 3px 1px rgba(60, 64, 67, 0.15);\n",
              "      fill: #174EA6;\n",
              "    }\n",
              "\n",
              "    .colab-df-buttons div {\n",
              "      margin-bottom: 4px;\n",
              "    }\n",
              "\n",
              "    [theme=dark] .colab-df-convert {\n",
              "      background-color: #3B4455;\n",
              "      fill: #D2E3FC;\n",
              "    }\n",
              "\n",
              "    [theme=dark] .colab-df-convert:hover {\n",
              "      background-color: #434B5C;\n",
              "      box-shadow: 0px 1px 3px 1px rgba(0, 0, 0, 0.15);\n",
              "      filter: drop-shadow(0px 1px 2px rgba(0, 0, 0, 0.3));\n",
              "      fill: #FFFFFF;\n",
              "    }\n",
              "  </style>\n",
              "\n",
              "    <script>\n",
              "      const buttonEl =\n",
              "        document.querySelector('#df-ba22766f-5f4c-409c-8158-a1e4797add82 button.colab-df-convert');\n",
              "      buttonEl.style.display =\n",
              "        google.colab.kernel.accessAllowed ? 'block' : 'none';\n",
              "\n",
              "      async function convertToInteractive(key) {\n",
              "        const element = document.querySelector('#df-ba22766f-5f4c-409c-8158-a1e4797add82');\n",
              "        const dataTable =\n",
              "          await google.colab.kernel.invokeFunction('convertToInteractive',\n",
              "                                                    [key], {});\n",
              "        if (!dataTable) return;\n",
              "\n",
              "        const docLinkHtml = 'Like what you see? Visit the ' +\n",
              "          '<a target=\"_blank\" href=https://colab.research.google.com/notebooks/data_table.ipynb>data table notebook</a>'\n",
              "          + ' to learn more about interactive tables.';\n",
              "        element.innerHTML = '';\n",
              "        dataTable['output_type'] = 'display_data';\n",
              "        await google.colab.output.renderOutput(dataTable, element);\n",
              "        const docLink = document.createElement('div');\n",
              "        docLink.innerHTML = docLinkHtml;\n",
              "        element.appendChild(docLink);\n",
              "      }\n",
              "    </script>\n",
              "  </div>\n",
              "\n",
              "\n",
              "<div id=\"df-cd247325-9249-475c-9158-be2ce2aac3b2\">\n",
              "  <button class=\"colab-df-quickchart\" onclick=\"quickchart('df-cd247325-9249-475c-9158-be2ce2aac3b2')\"\n",
              "            title=\"Suggest charts\"\n",
              "            style=\"display:none;\">\n",
              "\n",
              "<svg xmlns=\"http://www.w3.org/2000/svg\" height=\"24px\"viewBox=\"0 0 24 24\"\n",
              "     width=\"24px\">\n",
              "    <g>\n",
              "        <path d=\"M19 3H5c-1.1 0-2 .9-2 2v14c0 1.1.9 2 2 2h14c1.1 0 2-.9 2-2V5c0-1.1-.9-2-2-2zM9 17H7v-7h2v7zm4 0h-2V7h2v10zm4 0h-2v-4h2v4z\"/>\n",
              "    </g>\n",
              "</svg>\n",
              "  </button>\n",
              "\n",
              "<style>\n",
              "  .colab-df-quickchart {\n",
              "      --bg-color: #E8F0FE;\n",
              "      --fill-color: #1967D2;\n",
              "      --hover-bg-color: #E2EBFA;\n",
              "      --hover-fill-color: #174EA6;\n",
              "      --disabled-fill-color: #AAA;\n",
              "      --disabled-bg-color: #DDD;\n",
              "  }\n",
              "\n",
              "  [theme=dark] .colab-df-quickchart {\n",
              "      --bg-color: #3B4455;\n",
              "      --fill-color: #D2E3FC;\n",
              "      --hover-bg-color: #434B5C;\n",
              "      --hover-fill-color: #FFFFFF;\n",
              "      --disabled-bg-color: #3B4455;\n",
              "      --disabled-fill-color: #666;\n",
              "  }\n",
              "\n",
              "  .colab-df-quickchart {\n",
              "    background-color: var(--bg-color);\n",
              "    border: none;\n",
              "    border-radius: 50%;\n",
              "    cursor: pointer;\n",
              "    display: none;\n",
              "    fill: var(--fill-color);\n",
              "    height: 32px;\n",
              "    padding: 0;\n",
              "    width: 32px;\n",
              "  }\n",
              "\n",
              "  .colab-df-quickchart:hover {\n",
              "    background-color: var(--hover-bg-color);\n",
              "    box-shadow: 0 1px 2px rgba(60, 64, 67, 0.3), 0 1px 3px 1px rgba(60, 64, 67, 0.15);\n",
              "    fill: var(--button-hover-fill-color);\n",
              "  }\n",
              "\n",
              "  .colab-df-quickchart-complete:disabled,\n",
              "  .colab-df-quickchart-complete:disabled:hover {\n",
              "    background-color: var(--disabled-bg-color);\n",
              "    fill: var(--disabled-fill-color);\n",
              "    box-shadow: none;\n",
              "  }\n",
              "\n",
              "  .colab-df-spinner {\n",
              "    border: 2px solid var(--fill-color);\n",
              "    border-color: transparent;\n",
              "    border-bottom-color: var(--fill-color);\n",
              "    animation:\n",
              "      spin 1s steps(1) infinite;\n",
              "  }\n",
              "\n",
              "  @keyframes spin {\n",
              "    0% {\n",
              "      border-color: transparent;\n",
              "      border-bottom-color: var(--fill-color);\n",
              "      border-left-color: var(--fill-color);\n",
              "    }\n",
              "    20% {\n",
              "      border-color: transparent;\n",
              "      border-left-color: var(--fill-color);\n",
              "      border-top-color: var(--fill-color);\n",
              "    }\n",
              "    30% {\n",
              "      border-color: transparent;\n",
              "      border-left-color: var(--fill-color);\n",
              "      border-top-color: var(--fill-color);\n",
              "      border-right-color: var(--fill-color);\n",
              "    }\n",
              "    40% {\n",
              "      border-color: transparent;\n",
              "      border-right-color: var(--fill-color);\n",
              "      border-top-color: var(--fill-color);\n",
              "    }\n",
              "    60% {\n",
              "      border-color: transparent;\n",
              "      border-right-color: var(--fill-color);\n",
              "    }\n",
              "    80% {\n",
              "      border-color: transparent;\n",
              "      border-right-color: var(--fill-color);\n",
              "      border-bottom-color: var(--fill-color);\n",
              "    }\n",
              "    90% {\n",
              "      border-color: transparent;\n",
              "      border-bottom-color: var(--fill-color);\n",
              "    }\n",
              "  }\n",
              "</style>\n",
              "\n",
              "  <script>\n",
              "    async function quickchart(key) {\n",
              "      const quickchartButtonEl =\n",
              "        document.querySelector('#' + key + ' button');\n",
              "      quickchartButtonEl.disabled = true;  // To prevent multiple clicks.\n",
              "      quickchartButtonEl.classList.add('colab-df-spinner');\n",
              "      try {\n",
              "        const charts = await google.colab.kernel.invokeFunction(\n",
              "            'suggestCharts', [key], {});\n",
              "      } catch (error) {\n",
              "        console.error('Error during call to suggestCharts:', error);\n",
              "      }\n",
              "      quickchartButtonEl.classList.remove('colab-df-spinner');\n",
              "      quickchartButtonEl.classList.add('colab-df-quickchart-complete');\n",
              "    }\n",
              "    (() => {\n",
              "      let quickchartButtonEl =\n",
              "        document.querySelector('#df-cd247325-9249-475c-9158-be2ce2aac3b2 button');\n",
              "      quickchartButtonEl.style.display =\n",
              "        google.colab.kernel.accessAllowed ? 'block' : 'none';\n",
              "    })();\n",
              "  </script>\n",
              "</div>\n",
              "\n",
              "    </div>\n",
              "  </div>\n"
            ],
            "application/vnd.google.colaboratory.intrinsic+json": {
              "type": "dataframe",
              "summary": "{\n  \"name\": \"print(\\\"\\\\nSVM (Linear) Classification Report:\\\\n\\\", svmDf)\",\n  \"rows\": 5,\n  \"fields\": [\n    {\n      \"column\": \"class\",\n      \"properties\": {\n        \"dtype\": \"category\",\n        \"num_unique_values\": 2,\n        \"samples\": [\n          \"no-recurrence-events\",\n          \"recurrence-events\"\n        ],\n        \"semantic_type\": \"\",\n        \"description\": \"\"\n      }\n    },\n    {\n      \"column\": \"age\",\n      \"properties\": {\n        \"dtype\": \"string\",\n        \"num_unique_values\": 3,\n        \"samples\": [\n          \"30-39\",\n          \"40-49\"\n        ],\n        \"semantic_type\": \"\",\n        \"description\": \"\"\n      }\n    },\n    {\n      \"column\": \"menopause\",\n      \"properties\": {\n        \"dtype\": \"category\",\n        \"num_unique_values\": 2,\n        \"samples\": [\n          \"ge40\",\n          \"premeno\"\n        ],\n        \"semantic_type\": \"\",\n        \"description\": \"\"\n      }\n    },\n    {\n      \"column\": \"tumor-size\",\n      \"properties\": {\n        \"dtype\": \"string\",\n        \"num_unique_values\": 4,\n        \"samples\": [\n          \"20-24\",\n          \"0-4\"\n        ],\n        \"semantic_type\": \"\",\n        \"description\": \"\"\n      }\n    },\n    {\n      \"column\": \"inv-nodes\",\n      \"properties\": {\n        \"dtype\": \"category\",\n        \"num_unique_values\": 1,\n        \"samples\": [\n          \"0-2\"\n        ],\n        \"semantic_type\": \"\",\n        \"description\": \"\"\n      }\n    },\n    {\n      \"column\": \"node-caps\",\n      \"properties\": {\n        \"dtype\": \"category\",\n        \"num_unique_values\": 1,\n        \"samples\": [\n          \"no\"\n        ],\n        \"semantic_type\": \"\",\n        \"description\": \"\"\n      }\n    },\n    {\n      \"column\": \"deg-malig\",\n      \"properties\": {\n        \"dtype\": \"number\",\n        \"std\": 0,\n        \"min\": 2,\n        \"max\": 3,\n        \"num_unique_values\": 2,\n        \"samples\": [\n          2\n        ],\n        \"semantic_type\": \"\",\n        \"description\": \"\"\n      }\n    },\n    {\n      \"column\": \"breast\",\n      \"properties\": {\n        \"dtype\": \"category\",\n        \"num_unique_values\": 2,\n        \"samples\": [\n          \"right\"\n        ],\n        \"semantic_type\": \"\",\n        \"description\": \"\"\n      }\n    },\n    {\n      \"column\": \"breast-quad\",\n      \"properties\": {\n        \"dtype\": \"string\",\n        \"num_unique_values\": 4,\n        \"samples\": [\n          \"right_up\"\n        ],\n        \"semantic_type\": \"\",\n        \"description\": \"\"\n      }\n    },\n    {\n      \"column\": \"irradiat\",\n      \"properties\": {\n        \"dtype\": \"category\",\n        \"num_unique_values\": 1,\n        \"samples\": [\n          \"no\"\n        ],\n        \"semantic_type\": \"\",\n        \"description\": \"\"\n      }\n    }\n  ]\n}"
            }
          },
          "metadata": {}
        },
        {
          "output_type": "stream",
          "name": "stdout",
          "text": [
            "Dataset columns: ['class', 'age', 'menopause', 'tumor-size', 'inv-nodes', 'node-caps', 'deg-malig', 'breast', 'breast-quad', 'irradiat']\n",
            "Selected target column: irradiat\n",
            "\n",
            "KNN Classification Report:\n",
            "               precision    recall  f1-score   support\n",
            "no             0.803030  0.883333  0.841270  60.00000\n",
            "yes            0.363636  0.235294  0.285714  17.00000\n",
            "accuracy       0.740260  0.740260  0.740260   0.74026\n",
            "macro avg      0.583333  0.559314  0.563492  77.00000\n",
            "weighted avg   0.706021  0.740260  0.718615  77.00000\n",
            "\n",
            "KNN (Grid Search CV) Classification Report:\n",
            "               precision    recall  f1-score    support\n",
            "no             0.786667  0.983333  0.874074  60.000000\n",
            "yes            0.500000  0.058824  0.105263  17.000000\n",
            "accuracy       0.779221  0.779221  0.779221   0.779221\n",
            "macro avg      0.643333  0.521078  0.489669  77.000000\n",
            "weighted avg   0.723377  0.779221  0.704337  77.000000\n",
            "\n",
            "SVM (Linear) Classification Report:\n",
            "               precision    recall  f1-score    support\n",
            "no             0.800000  1.000000  0.888889  60.000000\n",
            "yes            1.000000  0.117647  0.210526  17.000000\n",
            "accuracy       0.805195  0.805195  0.805195   0.805195\n",
            "macro avg      0.900000  0.558824  0.549708  77.000000\n",
            "weighted avg   0.844156  0.805195  0.739121  77.000000\n"
          ]
        }
      ]
    },
    {
      "cell_type": "code",
      "source": [
        "from google.colab import drive\n",
        "drive.mount('/content/drive')"
      ],
      "metadata": {
        "colab": {
          "base_uri": "https://localhost:8080/"
        },
        "id": "hLn2-VHdXh1X",
        "outputId": "dfa6f9b2-029e-48c9-a4ff-661c7068befa"
      },
      "execution_count": 1,
      "outputs": [
        {
          "output_type": "stream",
          "name": "stdout",
          "text": [
            "Mounted at /content/drive\n"
          ]
        }
      ]
    },
    {
      "cell_type": "code",
      "source": [
        "from sklearn.neighbors import KNeighborsClassifier\n",
        "from sklearn.metrics import classification_report\n",
        "from sklearn.linear_model import LogisticRegression\n",
        "\n",
        "knnModel = KNeighborsClassifier(n_neighbors=5)\n",
        "knnModel.fit(xTrainScaled, yTrain)\n",
        "\n",
        "yPredKnn = knnModel.predict(xTestScaled)\n",
        "yPredKnnGrid = bestKnnModel.predict(xTestScaled)  # From previous GridSearchCV\n",
        "\n",
        "logRegModel = LogisticRegression(random_state=42, max_iter=1000)\n",
        "logRegModel.fit(xTrainScaled, yTrain)\n",
        "yPredLogReg = logRegModel.predict(xTestScaled)\n",
        "\n",
        "print(\"K-Nearest Neighbors Classification Report:\\n\", classification_report(yTest, yPredKnn))\n",
        "print(\"KNN (Grid Search CV) Classification Report:\\n\", classification_report(yTest, yPredKnnGrid))\n",
        "print(\"Logistic Regression Classification Report:\\n\", classification_report(yTest, yPredLogReg))\n"
      ],
      "metadata": {
        "colab": {
          "base_uri": "https://localhost:8080/"
        },
        "id": "D88hy5j6dNsJ",
        "outputId": "61ccb060-c012-44b4-b280-2576e529834b"
      },
      "execution_count": 11,
      "outputs": [
        {
          "output_type": "stream",
          "name": "stdout",
          "text": [
            "K-Nearest Neighbors Classification Report:\n",
            "               precision    recall  f1-score   support\n",
            "\n",
            "          no       0.80      0.88      0.84        60\n",
            "         yes       0.36      0.24      0.29        17\n",
            "\n",
            "    accuracy                           0.74        77\n",
            "   macro avg       0.58      0.56      0.56        77\n",
            "weighted avg       0.71      0.74      0.72        77\n",
            "\n",
            "KNN (Grid Search CV) Classification Report:\n",
            "               precision    recall  f1-score   support\n",
            "\n",
            "          no       0.79      0.98      0.87        60\n",
            "         yes       0.50      0.06      0.11        17\n",
            "\n",
            "    accuracy                           0.78        77\n",
            "   macro avg       0.64      0.52      0.49        77\n",
            "weighted avg       0.72      0.78      0.70        77\n",
            "\n",
            "Logistic Regression Classification Report:\n",
            "               precision    recall  f1-score   support\n",
            "\n",
            "          no       0.81      0.98      0.89        60\n",
            "         yes       0.75      0.18      0.29        17\n",
            "\n",
            "    accuracy                           0.81        77\n",
            "   macro avg       0.78      0.58      0.59        77\n",
            "weighted avg       0.80      0.81      0.75        77\n",
            "\n"
          ]
        }
      ]
    }
  ]
}